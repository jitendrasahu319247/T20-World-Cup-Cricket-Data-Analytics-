{
 "cells": [
  {
   "cell_type": "code",
   "execution_count": 3,
   "id": "094ee922-3d9b-4c13-8ca5-ac285c97455c",
   "metadata": {},
   "outputs": [
    {
     "name": "stdout",
     "output_type": "stream",
     "text": [
      "{'matchSummary': [{'team1': 'England', 'team2': 'Pakistan', 'winner': 'England', 'margin': '5 wickets', 'ground': 'Melbourne', 'matchDate': 'Nov 13, 2022', 'scorecard': 'T20I # 1879'}, {'team1': 'England', 'team2': 'India', 'winner': 'England', 'margin': '10 wickets', 'ground': 'Adelaide', 'matchDate': 'Nov 10, 2022', 'scorecard': 'T20I # 1878'}, {'team1': 'New Zealand', 'team2': 'Pakistan', 'winner': 'Pakistan', 'margin': '7 wickets', 'ground': 'Sydney', 'matchDate': 'Nov 9, 2022', 'scorecard': 'T20I # 1877'}, {'team1': 'India', 'team2': 'Zimbabwe', 'winner': 'India', 'margin': '71 runs', 'ground': 'Melbourne', 'matchDate': 'Nov 6, 2022', 'scorecard': 'T20I # 1873'}, {'team1': 'Bangladesh', 'team2': 'Pakistan', 'winner': 'Pakistan', 'margin': '5 wickets', 'ground': 'Adelaide', 'matchDate': 'Nov 6, 2022', 'scorecard': 'T20I # 1872'}, {'team1': 'Netherlands', 'team2': 'South Africa', 'winner': 'Netherlands', 'margin': '13 runs', 'ground': 'Adelaide', 'matchDate': 'Nov 6, 2022', 'scorecard': 'T20I # 1871'}, {'team1': 'England', 'team2': 'Sri Lanka', 'winner': 'England', 'margin': '4 wickets', 'ground': 'Sydney', 'matchDate': 'Nov 5, 2022', 'scorecard': 'T20I # 1867'}, {'team1': 'Australia', 'team2': 'Afghanistan', 'winner': 'Australia', 'margin': '4 runs', 'ground': 'Adelaide', 'matchDate': 'Nov 4, 2022', 'scorecard': 'T20I # 1864'}, {'team1': 'Ireland', 'team2': 'New Zealand', 'winner': 'New Zealand', 'margin': '35 runs', 'ground': 'Adelaide', 'matchDate': 'Nov 4, 2022', 'scorecard': 'T20I # 1862'}, {'team1': 'Pakistan', 'team2': 'South Africa', 'winner': 'Pakistan', 'margin': '33 runs', 'ground': 'Sydney', 'matchDate': 'Nov 3, 2022', 'scorecard': 'T20I # 1861'}, {'team1': 'Bangladesh', 'team2': 'India', 'winner': 'India', 'margin': '5 runs', 'ground': 'Adelaide', 'matchDate': 'Nov 2, 2022', 'scorecard': 'T20I # 1860'}, {'team1': 'Netherlands', 'team2': 'Zimbabwe', 'winner': 'Netherlands', 'margin': '5 wickets', 'ground': 'Adelaide', 'matchDate': 'Nov 2, 2022', 'scorecard': 'T20I # 1859'}, {'team1': 'England', 'team2': 'New Zealand', 'winner': 'England', 'margin': '20 runs', 'ground': 'Brisbane', 'matchDate': 'Nov 1, 2022', 'scorecard': 'T20I # 1858'}, {'team1': 'Afghanistan', 'team2': 'Sri Lanka', 'winner': 'Sri Lanka', 'margin': '6 wickets', 'ground': 'Brisbane', 'matchDate': 'Nov 1, 2022', 'scorecard': 'T20I # 1856'}, {'team1': 'Australia', 'team2': 'Ireland', 'winner': 'Australia', 'margin': '42 runs', 'ground': 'Brisbane', 'matchDate': 'Oct 31, 2022', 'scorecard': 'T20I # 1855'}, {'team1': 'India', 'team2': 'South Africa', 'winner': 'South Africa', 'margin': '5 wickets', 'ground': 'Perth', 'matchDate': 'Oct 30, 2022', 'scorecard': 'T20I # 1853'}, {'team1': 'Netherlands', 'team2': 'Pakistan', 'winner': 'Pakistan', 'margin': '6 wickets', 'ground': 'Perth', 'matchDate': 'Oct 30, 2022', 'scorecard': 'T20I # 1852'}, {'team1': 'Bangladesh', 'team2': 'Zimbabwe', 'winner': 'Bangladesh', 'margin': '3 runs', 'ground': 'Brisbane', 'matchDate': 'Oct 30, 2022', 'scorecard': 'T20I # 1851'}, {'team1': 'New Zealand', 'team2': 'Sri Lanka', 'winner': 'New Zealand', 'margin': '65 runs', 'ground': 'Sydney', 'matchDate': 'Oct 29, 2022', 'scorecard': 'T20I # 1850'}, {'team1': 'Pakistan', 'team2': 'Zimbabwe', 'winner': 'Zimbabwe', 'margin': '1 run', 'ground': 'Perth', 'matchDate': 'Oct 27, 2022', 'scorecard': 'T20I # 1849'}, {'team1': 'India', 'team2': 'Netherlands', 'winner': 'India', 'margin': '56 runs', 'ground': 'Sydney', 'matchDate': 'Oct 27, 2022', 'scorecard': 'T20I # 1848'}, {'team1': 'Bangladesh', 'team2': 'South Africa', 'winner': 'South Africa', 'margin': '104 runs', 'ground': 'Sydney', 'matchDate': 'Oct 27, 2022', 'scorecard': 'T20I # 1847'}, {'team1': 'England', 'team2': 'Ireland', 'winner': 'Ireland', 'margin': '5 runs', 'ground': 'Melbourne', 'matchDate': 'Oct 26, 2022', 'scorecard': 'T20I # 1846'}, {'team1': 'Australia', 'team2': 'Sri Lanka', 'winner': 'Australia', 'margin': '7 wickets', 'ground': 'Perth', 'matchDate': 'Oct 25, 2022', 'scorecard': 'T20I # 1845'}, {'team1': 'South Africa', 'team2': 'Zimbabwe', 'winner': 'no result', 'margin': '-', 'ground': 'Hobart', 'matchDate': 'Oct 24, 2022', 'scorecard': 'T20I # 1844'}, {'team1': 'Bangladesh', 'team2': 'Netherlands', 'winner': 'Bangladesh', 'margin': '9 runs', 'ground': 'Hobart', 'matchDate': 'Oct 24, 2022', 'scorecard': 'T20I # 1843'}, {'team1': 'India', 'team2': 'Pakistan', 'winner': 'India', 'margin': '4 wickets', 'ground': 'Melbourne', 'matchDate': 'Oct 23, 2022', 'scorecard': 'T20I # 1842'}, {'team1': 'Ireland', 'team2': 'Sri Lanka', 'winner': 'Sri Lanka', 'margin': '9 wickets', 'ground': 'Hobart', 'matchDate': 'Oct 23, 2022', 'scorecard': 'T20I # 1841'}, {'team1': 'Afghanistan', 'team2': 'England', 'winner': 'England', 'margin': '5 wickets', 'ground': 'Perth', 'matchDate': 'Oct 22, 2022', 'scorecard': 'T20I # 1840'}, {'team1': 'Australia', 'team2': 'New Zealand', 'winner': 'New Zealand', 'margin': '89 runs', 'ground': 'Sydney', 'matchDate': 'Oct 22, 2022', 'scorecard': 'T20I # 1839'}, {'team1': 'Scotland', 'team2': 'Zimbabwe', 'winner': 'Zimbabwe', 'margin': '5 wickets', 'ground': 'Hobart', 'matchDate': 'Oct 21, 2022', 'scorecard': 'T20I # 1838'}, {'team1': 'Ireland', 'team2': 'West Indies', 'winner': 'Ireland', 'margin': '9 wickets', 'ground': 'Hobart', 'matchDate': 'Oct 21, 2022', 'scorecard': 'T20I # 1837'}, {'team1': 'Namibia', 'team2': 'U.A.E.', 'winner': 'U.A.E.', 'margin': '7 runs', 'ground': 'Geelong', 'matchDate': 'Oct 20, 2022', 'scorecard': 'T20I # 1836'}, {'team1': 'Netherlands', 'team2': 'Sri Lanka', 'winner': 'Sri Lanka', 'margin': '16 runs', 'ground': 'Geelong', 'matchDate': 'Oct 20, 2022', 'scorecard': 'T20I # 1835'}, {'team1': 'West Indies', 'team2': 'Zimbabwe', 'winner': 'West Indies', 'margin': '31 runs', 'ground': 'Hobart', 'matchDate': 'Oct 19, 2022', 'scorecard': 'T20I # 1834'}, {'team1': 'Ireland', 'team2': 'Scotland', 'winner': 'Ireland', 'margin': '6 wickets', 'ground': 'Hobart', 'matchDate': 'Oct 19, 2022', 'scorecard': 'T20I # 1833'}, {'team1': 'Sri Lanka', 'team2': 'U.A.E.', 'winner': 'Sri Lanka', 'margin': '79 runs', 'ground': 'Geelong', 'matchDate': 'Oct 18, 2022', 'scorecard': 'T20I # 1832'}, {'team1': 'Namibia', 'team2': 'Netherlands', 'winner': 'Netherlands', 'margin': '5 wickets', 'ground': 'Geelong', 'matchDate': 'Oct 18, 2022', 'scorecard': 'T20I # 1830'}, {'team1': 'Ireland', 'team2': 'Zimbabwe', 'winner': 'Zimbabwe', 'margin': '31 runs', 'ground': 'Hobart', 'matchDate': 'Oct 17, 2022', 'scorecard': 'T20I # 1828'}, {'team1': 'Scotland', 'team2': 'West Indies', 'winner': 'Scotland', 'margin': '42 runs', 'ground': 'Hobart', 'matchDate': 'Oct 17, 2022', 'scorecard': 'T20I # 1826'}, {'team1': 'Netherlands', 'team2': 'U.A.E.', 'winner': 'Netherlands', 'margin': '3 wickets', 'ground': 'Geelong', 'matchDate': 'Oct 16, 2022', 'scorecard': 'T20I # 1825'}, {'team1': 'Namibia', 'team2': 'Sri Lanka', 'winner': 'Namibia', 'margin': '55 runs', 'ground': 'Geelong', 'matchDate': 'Oct 16, 2022', 'scorecard': 'T20I # 1823'}]}\n"
     ]
    }
   ],
   "source": [
    "# Import necessary libraries\n",
    "import requests\n",
    "from bs4 import BeautifulSoup\n",
    "\n",
    "# Stage 1: Interaction and Parsing Code\n",
    "\n",
    "# 1.a Interaction Code\n",
    "url = 'https://www.espncricinfo.com/records/tournament/team-match-results/icc-men-s-t20-world-cup-2022-23-14450'\n",
    "response = requests.get(url)\n",
    "\n",
    "# Raise an error if the request was unsuccessful\n",
    "response.raise_for_status()\n",
    "\n",
    "# 1.b Parser Code\n",
    "# Step 1: Create an array to store all the records\n",
    "match_summary = []\n",
    "\n",
    "# Step 2: Parse the HTML content\n",
    "soup = BeautifulSoup(response.content, 'html.parser')\n",
    "\n",
    "# Step 3: Selecting all rows we need from target table\n",
    "all_rows = soup.select('table.ds-w-full.ds-table.ds-table-xs.ds-table-auto > tbody > tr')\n",
    "\n",
    "# Looping through each row and getting the data from the cells (td)\n",
    "for row in all_rows:\n",
    "    tds = row.find_all('td')  # Find the td elements\n",
    "    match_summary.append({\n",
    "        'team1': tds[0].get_text(strip=True),\n",
    "        'team2': tds[1].get_text(strip=True),\n",
    "        'winner': tds[2].get_text(strip=True),\n",
    "        'margin': tds[3].get_text(strip=True),\n",
    "        'ground': tds[4].get_text(strip=True),\n",
    "        'matchDate': tds[5].get_text(strip=True),\n",
    "        'scorecard': tds[6].get_text(strip=True)\n",
    "    })\n",
    "\n",
    "# Step 4: Finally returning the data\n",
    "result = {\n",
    "    \"matchSummary\": match_summary\n",
    "}\n",
    "\n",
    "# Display the result\n",
    "print(result)\n"
   ]
  },
  {
   "cell_type": "code",
   "execution_count": 5,
   "id": "b33e44a1-b631-4155-8165-e0dea469adc0",
   "metadata": {},
   "outputs": [
    {
     "name": "stdout",
     "output_type": "stream",
     "text": [
      "Match summary saved to t20_world_cup_results.json\n"
     ]
    }
   ],
   "source": [
    "with open('t20_world_cup_results.json', 'w') as json_file:\n",
    "    json.dump({\"matchSummary\": match_summary}, json_file, indent=4)\n",
    "\n",
    "# Display a message indicating the file has been saved\n",
    "print(\"Match summary saved to t20_world_cup_results.json\")"
   ]
  },
  {
   "cell_type": "code",
   "execution_count": 9,
   "id": "c33d5180-5249-4b85-8f57-18d3928ab6a8",
   "metadata": {},
   "outputs": [
    {
     "name": "stdout",
     "output_type": "stream",
     "text": [
      "Match summary saved to t20_world_cup_results.csv\n"
     ]
    }
   ],
   "source": [
    "import csv\n",
    "# Save to CSV file\n",
    "csv_file_path = 't20_world_cup_results.csv'\n",
    "\n",
    "headers = match_summary[0].keys()\n",
    "\n",
    "with open(csv_file_path, mode='w', newline='') as csv_file:\n",
    "    writer = csv.DictWriter(csv_file, fieldnames=headers)\n",
    "\n",
    "    writer.writeheader()\n",
    "\n",
    "    writer.writerows(match_summary)\n",
    "\n",
    "print(f\"Match summary saved to {csv_file_path}\")"
   ]
  },
  {
   "cell_type": "code",
   "execution_count": null,
   "id": "8fa77a04-d397-47eb-86ce-6482ed90e47f",
   "metadata": {},
   "outputs": [],
   "source": []
  }
 ],
 "metadata": {
  "kernelspec": {
   "display_name": "Python 3 (ipykernel)",
   "language": "python",
   "name": "python3"
  },
  "language_info": {
   "codemirror_mode": {
    "name": "ipython",
    "version": 3
   },
   "file_extension": ".py",
   "mimetype": "text/x-python",
   "name": "python",
   "nbconvert_exporter": "python",
   "pygments_lexer": "ipython3",
   "version": "3.11.7"
  }
 },
 "nbformat": 4,
 "nbformat_minor": 5
}
